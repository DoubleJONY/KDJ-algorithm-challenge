{
 "cells": [
  {
   "cell_type": "markdown",
   "metadata": {},
   "source": [
    "## Do:\n",
    "\n",
    "$\\forall \\{A, B \\subseteq Rods\\}$ where $A \\cap B = \\emptyset$, update a dictionary which its keys are represented by $h_{\\text{diff}} = \\left | \\sum_{a \\in A} a - \\sum_{b \\in B} b \\right |$.\n",
    "\n",
    "\n",
    "\n",
    "#### 1. Add rod to the taller one\n",
    "\n",
    "In this case, the shorter counterpart doesn't change at all so we should update using that counterpart.\n",
    "\n",
    "```python\n",
    "_dp[h_diff + h] = max(_dp[h_diff + h], _h)\n",
    "```\n",
    "\n",
    "\n",
    "\n",
    "#### 2. Add rod to the shorter one\n",
    "\n",
    "There are two cases in this scenario:\n",
    "\n",
    "1. If $h_{\\text{diff}} \\ge h_{\\text{rod}}$, the height difference will shrink to $h_{\\text{diff}} := h_{\\text{diff}} - h_{\\text{rod}}$ while shorter one remains the shorter position. Therefore we should update with the present height of the shorter rod.\n",
    "2. If $h_{\\text{diff}} \\le h_{\\text{rod}}$, two rods exchange there positions; taller to shorter, shorter to taller. We therefore update with the height of the previous taller rod: previous shorter rod + height difference\n",
    "\n",
    "```python\n",
    "if h_diff >= h:\n",
    "    _dp[h_diff - h] = max(_dp[h_diff - h], _h + h)\n",
    "else:\n",
    "    _dp[h - h_diff] = max(_dp[h - h_diff], _h + h_diff)\n",
    "```\n",
    "\n",
    "\n",
    "\n",
    "## Code\n",
    "\n",
    "```python\n",
    "def tallestBillboard(self, rods: List[int]) -> int:\n",
    "    dp = defaultdict(int)\n",
    "    dp[0] = 0\n",
    "\n",
    "    for h in rods:\n",
    "        _dp = dp.copy()\n",
    "        for h_diff, _h in dp.items():\n",
    "            _dp[h_diff + h] = max(_dp[h_diff + h], _h)\n",
    "            if h_diff >= h:\n",
    "                _dp[h_diff - h] = max(_dp[h_diff - h], _h + h)\n",
    "            else:\n",
    "                _dp[h - h_diff] = max(_dp[h - h_diff], _h + h_diff)\n",
    "        dp = _dp\n",
    "    return dp[0]\n",
    "```\n",
    "\n",
    "https://leetcode.com/problems/tallest-billboard/"
   ]
  },
  {
   "cell_type": "markdown",
   "metadata": {},
   "source": []
  }
 ],
 "metadata": {
  "language_info": {
   "name": "python"
  },
  "orig_nbformat": 4
 },
 "nbformat": 4,
 "nbformat_minor": 2
}
